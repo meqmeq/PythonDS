{
 "metadata": {
  "language_info": {
   "codemirror_mode": {
    "name": "ipython",
    "version": 3
   },
   "file_extension": ".py",
   "mimetype": "text/x-python",
   "name": "python",
   "nbconvert_exporter": "python",
   "pygments_lexer": "ipython3",
   "version": "3.9.1-final"
  },
  "orig_nbformat": 2,
  "kernelspec": {
   "name": "python3",
   "display_name": "Python 3.9.1 64-bit",
   "metadata": {
    "interpreter": {
     "hash": "023b5eb596f0b47fde740eda929c71bf9f3c52abe22804a5a90be18df7a31ada"
    }
   }
  }
 },
 "nbformat": 4,
 "nbformat_minor": 2,
 "cells": [
  {
   "source": [
    "## Question 2 "
   ],
   "cell_type": "markdown",
   "metadata": {}
  },
  {
   "cell_type": "code",
   "execution_count": 15,
   "metadata": {},
   "outputs": [
    {
     "output_type": "stream",
     "name": "stdout",
     "text": [
      "[{'key': 'value'}, 'bruh', 8, 7, 4, 'hello']\n"
     ]
    }
   ],
   "source": [
    "ans = []\n",
    "\n",
    "def reverseList(L):\n",
    "    if len(L) < 2:\n",
    "        return ans.append(L[len(L)-1])\n",
    "    else:\n",
    "        return ans.append(L[len(L)-1]),reverseList(L[:len(L)-1])\n",
    "\n",
    "L = [1,2,3,4]\n",
    "L2= [\"hello\",4,7,8,\"bruh\",{'key':\"value\"}]\n",
    "\n",
    "reverseList(L2)\n",
    "print(ans)"
   ]
  },
  {
   "source": [
    "## Question 4\n",
    "\n",
    "Not sure how to do this tbh"
   ],
   "cell_type": "markdown",
   "metadata": {}
  },
  {
   "cell_type": "code",
   "execution_count": 30,
   "metadata": {},
   "outputs": [],
   "source": [
    "import turtle\n",
    "\n",
    "import random\n",
    "\n",
    "def drawTriangle(points,color,myTurtle):\n",
    "    myTurtle.fillcolor(color)\n",
    "    myTurtle.up()\n",
    "    myTurtle.goto(points[0][0],points[0][1])\n",
    "    myTurtle.down()\n",
    "    myTurtle.begin_fill()\n",
    "    myTurtle.goto(points[1][0],points[1][1])\n",
    "    myTurtle.goto(points[2][0],points[2][1])\n",
    "    myTurtle.goto(points[0][0],points[0][1])\n",
    "    myTurtle.end_fill()\n",
    "\n",
    "def getMid(p1,p2):\n",
    "    return ( (p1[0]+p2[0]) / random.randint(2,4), (p1[1] + p2[1]) / random.randint(2,4))\n",
    "\n",
    "def sierpinski(points,degree,myTurtle):\n",
    "    colormap = ['blue','red','green','white','yellow',\n",
    "                'violet','orange']\n",
    "    drawTriangle(points,colormap[degree],myTurtle)\n",
    "    if degree > 0:\n",
    "        sierpinski([points[0],\n",
    "                        getMid(points[0], points[1]),\n",
    "                        getMid(points[0], points[2])],\n",
    "                   degree-1, myTurtle)\n",
    "        sierpinski([points[1],\n",
    "                        getMid(points[0], points[1]),\n",
    "                        getMid(points[1], points[2])],\n",
    "                   degree-1, myTurtle)\n",
    "        sierpinski([points[2],\n",
    "                        getMid(points[2], points[1]),\n",
    "                        getMid(points[0], points[2])],\n",
    "                   degree-1, myTurtle)\n",
    "\n",
    "def main():\n",
    "   myTurtle = turtle.Turtle()\n",
    "   myWin = turtle.Screen()\n",
    "   myPoints = [[-100,-50],[0,100],[100,-50]]\n",
    "   sierpinski(myPoints,3,myTurtle)\n",
    "   myWin.exitonclick()\n",
    "\n",
    "main()\n",
    "\n"
   ]
  },
  {
   "source": [
    "## Question # 5"
   ],
   "cell_type": "markdown",
   "metadata": {}
  },
  {
   "cell_type": "code",
   "execution_count": 14,
   "metadata": {},
   "outputs": [
    {
     "output_type": "stream",
     "name": "stdout",
     "text": [
      "14930352\nThis took 0:00:05.324123\n"
     ]
    }
   ],
   "source": [
    "import datetime\n",
    "def fibonacci(n):\n",
    "    if n<=0:\n",
    "        return 0\n",
    "    if n == 1:\n",
    "        return 1\n",
    "    else:\n",
    "        return fibonacci(n-1) + fibonacci(n-2)\n",
    "\n",
    "start_time = datetime.datetime.now()\n",
    "print(fibonacci(36))\n",
    "end_time = datetime.datetime.now()\n",
    "print(f'This took {end_time - start_time}')"
   ]
  },
  {
   "cell_type": "code",
   "execution_count": 16,
   "metadata": {},
   "outputs": [
    {
     "output_type": "stream",
     "name": "stdout",
     "text": [
      "14930352\nThis took 0:00:00\n"
     ]
    }
   ],
   "source": [
    "answer = 0\n",
    "a = 36\n",
    "start_time = datetime.datetime.now()\n",
    "for i in range(a+1):\n",
    "    if i == 0:\n",
    "        n1 = 0\n",
    "    elif i == 1:\n",
    "        n2 = 1\n",
    "    else:\n",
    "        answer = n1 + n2\n",
    "        n1 = n2\n",
    "        n2 = answer\n",
    "end_time = datetime.datetime.now()\n",
    "print(answer)\n",
    "print(f'This took {end_time - start_time}')"
   ]
  },
  {
   "cell_type": "code",
   "execution_count": null,
   "metadata": {},
   "outputs": [],
   "source": []
  }
 ]
}